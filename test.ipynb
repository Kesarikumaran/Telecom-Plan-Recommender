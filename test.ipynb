{
 "cells": [
  {
   "cell_type": "code",
   "execution_count": 7,
   "metadata": {},
   "outputs": [],
   "source": [
    "from langchain.agents import create_react_agent, AgentExecutor\n",
    "from langchain.sql_database import SQLDatabase\n",
    "from langchain_google_genai import ChatGoogleGenerativeAI\n",
    "from langchain_community.agent_toolkits.sql.toolkit import SQLDatabaseToolkit\n",
    "from langchain_experimental.tools import PythonREPLTool\n",
    "from langchain.prompts import PromptTemplate\n",
    "from langchain.tools.render import render_text_description"
   ]
  },
  {
   "cell_type": "code",
   "execution_count": 8,
   "metadata": {},
   "outputs": [
    {
     "data": {
      "text/plain": [
       "True"
      ]
     },
     "execution_count": 8,
     "metadata": {},
     "output_type": "execute_result"
    }
   ],
   "source": [
    "from dotenv import load_dotenv\n",
    "import os\n",
    "load_dotenv()"
   ]
  },
  {
   "cell_type": "code",
   "execution_count": 9,
   "metadata": {},
   "outputs": [],
   "source": [
    "api_key = os.getenv(\"GOOGLE_API_KEY\")\n",
    "if not api_key:\n",
    "    raise ValueError(\"GOOGLE_API_KEY environment variable not set.\")"
   ]
  },
  {
   "cell_type": "code",
   "execution_count": 22,
   "metadata": {},
   "outputs": [],
   "source": [
    "llm = ChatGoogleGenerativeAI(temperature=0.2, model=\"gemini-2.0-flash\", api_key=api_key)"
   ]
  },
  {
   "cell_type": "code",
   "execution_count": 23,
   "metadata": {},
   "outputs": [],
   "source": [
    "db = SQLDatabase.from_uri(\"sqlite:///telecom.db\")\n",
    "toolkit = SQLDatabaseToolkit(db=db, llm=llm)\n",
    "tools = toolkit.get_tools()\n",
    "tools.append(PythonREPLTool())"
   ]
  },
  {
   "cell_type": "code",
   "execution_count": 24,
   "metadata": {},
   "outputs": [],
   "source": [
    "template = \"\"\"You are a telecom service advisor who helps customers find the best plan for their needs.\n",
    " \n",
    "        When recommending plans, consider:\n",
    "        1. The customer's usage patterns (data, voice, SMS)\n",
    "        2. Number of people/devices that will use the plan\n",
    "        3. Special requirements (international calling, streaming, etc.)\n",
    "        4. Budget constraints\n",
    " \n",
    "        Always explain WHY a particular plan is a good fit for their needs.\n",
    " \n",
    "        If the customer asks for a plan that is not available, suggest the closest alternative.\n",
    " \n",
    "        You have access to the following tools:\n",
    " \n",
    "        {tools}\n",
    " \n",
    "        Use the following format:\n",
    " \n",
    "        Question: the input question you must answer\n",
    "        Thought: you should always think about what to do\n",
    "        Action: the action to take, should be one of [{tool_names}]\n",
    "        Action Input: the input to the action\n",
    "        Observation: the result of the action\n",
    "        ... (this Thought/Action/Action Input/Observation can repeat N times)\n",
    "        Thought: I now know the final answer\n",
    "        Final Answer: the final answer to the original input question\n",
    " \n",
    "        Question : {input}\n",
    "        Thought : {agent_scratchpad}\n",
    "        \"\"\""
   ]
  },
  {
   "cell_type": "code",
   "execution_count": 25,
   "metadata": {},
   "outputs": [
    {
     "data": {
      "text/plain": [
       "PromptTemplate(input_variables=['agent_scratchpad', 'input'], input_types={}, partial_variables={'tools': \"sql_db_query - Input to this tool is a detailed and correct SQL query, output is a result from the database. If the query is not correct, an error message will be returned. If an error is returned, rewrite the query, check the query, and try again. If you encounter an issue with Unknown column 'xxxx' in 'field list', use sql_db_schema to query the correct table fields.\\nsql_db_schema - Input to this tool is a comma-separated list of tables, output is the schema and sample rows for those tables. Be sure that the tables actually exist by calling sql_db_list_tables first! Example Input: table1, table2, table3\\nsql_db_list_tables - Input is an empty string, output is a comma-separated list of tables in the database.\\nsql_db_query_checker - Use this tool to double check if your query is correct before executing it. Always use this tool before executing a query with sql_db_query!\\nPython_REPL - A Python shell. Use this to execute python commands. Input should be a valid python command. If you want to see the output of a value, you should print it out with `print(...)`.\", 'tool_names': 'sql_db_query, sql_db_schema, sql_db_list_tables, sql_db_query_checker, Python_REPL'}, template=\"You are a telecom service advisor who helps customers find the best plan for their needs.\\n \\n        When recommending plans, consider:\\n        1. The customer's usage patterns (data, voice, SMS)\\n        2. Number of people/devices that will use the plan\\n        3. Special requirements (international calling, streaming, etc.)\\n        4. Budget constraints\\n \\n        Always explain WHY a particular plan is a good fit for their needs.\\n \\n        If the customer asks for a plan that is not available, suggest the closest alternative.\\n \\n        You have access to the following tools:\\n \\n        {tools}\\n \\n        Use the following format:\\n \\n        Question: the input question you must answer\\n        Thought: you should always think about what to do\\n        Action: the action to take, should be one of [{tool_names}]\\n        Action Input: the input to the action\\n        Observation: the result of the action\\n        ... (this Thought/Action/Action Input/Observation can repeat N times)\\n        Thought: I now know the final answer\\n        Final Answer: the final answer to the original input question\\n \\n        Question : {input}\\n        Thought : {agent_scratchpad}\\n        \")"
      ]
     },
     "execution_count": 25,
     "metadata": {},
     "output_type": "execute_result"
    }
   ],
   "source": [
    "prompt = PromptTemplate.from_template(template=template).partial(\n",
    "        tools=render_text_description(tools),\n",
    "        tool_names=\", \".join([t.name for t in tools]),\n",
    ")\n",
    "prompt"
   ]
  },
  {
   "cell_type": "code",
   "execution_count": 26,
   "metadata": {},
   "outputs": [],
   "source": [
    "agent = create_react_agent(llm=llm, tools=tools,prompt=prompt)\n",
    "agent_executor = AgentExecutor(\n",
    "    agent=agent,\n",
    "    verbose=True,\n",
    "    max_iterations=20,\n",
    "    tools=tools\n",
    ")"
   ]
  },
  {
   "cell_type": "code",
   "execution_count": 28,
   "metadata": {},
   "outputs": [
    {
     "name": "stdout",
     "output_type": "stream",
     "text": [
      "\n",
      "\n",
      "\u001b[1m> Entering new AgentExecutor chain...\u001b[0m\n",
      "\u001b[32;1m\u001b[1;3mOkay, I need to find a plan that supports video streaming and international calls, and calculate the billing price for 2 people with 10GB of data each.\n",
      "\n",
      "First, I need to see what tables are available in the database to understand the data structure.\n",
      "Action: sql_db_list_tables\n",
      "Action Input:\u001b[0m\u001b[38;5;200m\u001b[1;3mbuilding_types, cell_towers, common_network_issues, coverage_quality, customer_usage, customers, device_compatibility, network_incidents, service_areas, service_plans, support_tickets, tower_technologies, transportation_routes\u001b[0m\u001b[32;1m\u001b[1;3mNow that I have the list of tables, I need to examine the `service_plans` table to find a suitable plan. I'll use `sql_db_schema` to view the schema and some sample rows.\n",
      "Action: sql_db_schema\n",
      "Action Input: service_plans\u001b[0m\u001b[33;1m\u001b[1;3m\n",
      "CREATE TABLE service_plans (\n",
      "\tplan_id VARCHAR(50), \n",
      "\tname VARCHAR(100) NOT NULL, \n",
      "\tmonthly_cost DECIMAL(10, 2) NOT NULL, \n",
      "\tdata_limit_gb INTEGER, \n",
      "\tunlimited_data BOOLEAN NOT NULL, \n",
      "\tvoice_minutes INTEGER, \n",
      "\tunlimited_voice BOOLEAN NOT NULL, \n",
      "\tsms_count INTEGER, \n",
      "\tunlimited_sms BOOLEAN NOT NULL, \n",
      "\tcontract_duration_months INTEGER, \n",
      "\tearly_termination_fee DECIMAL(10, 2), \n",
      "\tinternational_roaming BOOLEAN NOT NULL, \n",
      "\tdescription TEXT, \n",
      "\tPRIMARY KEY (plan_id)\n",
      ")\n",
      "\n",
      "/*\n",
      "3 rows from service_plans table:\n",
      "plan_id\tname\tmonthly_cost\tdata_limit_gb\tunlimited_data\tvoice_minutes\tunlimited_voice\tsms_count\tunlimited_sms\tcontract_duration_months\tearly_termination_fee\tinternational_roaming\tdescription\n",
      "BASIC_100\tBasic Plan\t499.00\t1\tFalse\t100\tFalse\t100\tFalse\t12\t999.00\tFalse\tAffordable plan with essential services\n",
      "STD_500\tStandard Plan\t799.00\t5\tFalse\t500\tTrue\t500\tTrue\t12\t1499.00\tFalse\tPopular plan with generous data and unlimited calls\n",
      "PREM_UNL\tPremium Unlimited\t1299.00\tNone\tTrue\tNone\tTrue\tNone\tTrue\t12\t2499.00\tTrue\tComprehensive plan with unlimited everything and international roaming\n",
      "*/\u001b[0m\u001b[32;1m\u001b[1;3mI need a plan that supports video streaming and international calls, and has at least 10GB data per person. Looking at the `service_plans` table, the \"Premium Unlimited\" plan seems to be the best fit because it offers unlimited data and international roaming.\n",
      "\n",
      "Now, let's calculate the total cost for 2 people.\n",
      "Action: sql_db_query\n",
      "Action Input: SELECT monthly_cost FROM service_plans WHERE name = \"Premium Unlimited\"\u001b[0m\u001b[36;1m\u001b[1;3mError: (sqlite3.OperationalError) unrecognized token: \"\"Premium Unlimited\"\n",
      "[SQL: SELECT monthly_cost FROM service_plans WHERE name = \"Premium Unlimited]\n",
      "(Background on this error at: https://sqlalche.me/e/20/e3q8)\u001b[0m\u001b[32;1m\u001b[1;3mI made a mistake in the query. The string should be enclosed in single quotes.\n",
      "Action: sql_db_query\n",
      "Action Input: SELECT monthly_cost FROM service_plans WHERE name = 'Premium Unlimited'\u001b[0m\u001b[36;1m\u001b[1;3m[(1299,)]\u001b[0m\u001b[32;1m\u001b[1;3mThe monthly cost for the \"Premium Unlimited\" plan is $1299. Since there are two people, the total cost will be 2 * $1299. I will use Python to calculate this.\n",
      "Action: Python_REPL\n",
      "Action Input: print(2 * 1299)\u001b[0m\u001b[33;1m\u001b[1;3m2598\n",
      "\u001b[0m\u001b[32;1m\u001b[1;3mI now know the final answer\n",
      "Final Answer: The Premium Unlimited plan is the best option for your needs, as it includes unlimited data and international roaming. The total monthly cost for 2 people would be $2598.\u001b[0m\n",
      "\n",
      "\u001b[1m> Finished chain.\u001b[0m\n"
     ]
    }
   ],
   "source": [
    "response = agent_executor.invoke({\"input\": \"I need a plan for streaming video and international calls. Calculate the billing price for 2 people with 10GB data each\"})"
   ]
  }
 ],
 "metadata": {
  "kernelspec": {
   "display_name": "venv",
   "language": "python",
   "name": "python3"
  },
  "language_info": {
   "codemirror_mode": {
    "name": "ipython",
    "version": 3
   },
   "file_extension": ".py",
   "mimetype": "text/x-python",
   "name": "python",
   "nbconvert_exporter": "python",
   "pygments_lexer": "ipython3",
   "version": "3.13.2"
  }
 },
 "nbformat": 4,
 "nbformat_minor": 2
}
